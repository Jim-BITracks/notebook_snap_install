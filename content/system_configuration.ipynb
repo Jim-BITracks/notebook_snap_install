{
    "metadata": {
        "kernelspec": {
            "name": "powershell",
            "display_name": "PowerShell",
            "language": "powershell"
        },
        "language_info": {
            "name": "powershell",
            "codemirror_mode": "shell",
            "mimetype": "text/x-sh",
            "file_extension": ".ps1"
        }
    },
    "nbformat_minor": 2,
    "nbformat": 4,
    "cells": [
        {
            "cell_type": "markdown",
            "source": [
                "# System Configuration\n",
                "**Important:** notebookSnap and eltSnap both require **PowerShell Core**. It can be downloaded at: [https://docs.microsoft.com/en-us/powershell/scripting/install/installing-powershell-on-windows?view=powershell-7.2](https://docs.microsoft.com/en-us/powershell/scripting/install/installing-powershell-on-windows?view=powershell-7.2)\n",
                "## Version of PowerShell\n",
                "Note: You will want to run the following commands from a PowerShell \"Terminal Window\" to be sure you are using PowerShell 'Core' (version **7.0** or greater). Azure Data Studio typically uses a \"non-core\" version of PowerShell"
            ],
            "metadata": {
                "azdata_cell_guid": "2c1e9ec0-c4fc-4c13-98c8-4b3605d40c07"
            },
            "attachments": {}
        },
        {
            "cell_type": "code",
            "source": [
                "get-host | select-object version\r\n",
                "if($env:Processor_Architecture -eq \"x86\"){Write-Output \"running on 32bit\"}else{Write-Output \"running on 64bit\"}"
            ],
            "metadata": {
                "azdata_cell_guid": "4e42a3ea-eadd-4f19-b24f-d80508312b1a",
                "tags": [],
                "language": "powershell"
            },
            "outputs": [],
            "execution_count": null
        },
        {
            "cell_type": "markdown",
            "source": [
                "## 'Execution Policy' for PowerShell\n",
                "\n",
                "Verify that the \"LocalMachine\" execution policy is set to \"<span style=\"color: rgb(33, 33, 33); font-family: Consolas, &quot;Courier New&quot;, monospace; font-size: 12px; white-space: pre;\">RemoteSigned</span>\""
            ],
            "metadata": {
                "azdata_cell_guid": "6805fe7e-db34-4afa-a92f-2574e2d3ed93"
            },
            "attachments": {}
        },
        {
            "cell_type": "code",
            "source": [
                "Get-ExecutionPolicy -List"
            ],
            "metadata": {
                "azdata_cell_guid": "a314f22d-5c8c-43ef-8aa3-cce51cae99f9",
                "language": "powershell"
            },
            "outputs": [],
            "execution_count": null
        },
        {
            "cell_type": "markdown",
            "source": [
                "## Changing the 'Execution Policy' for PowerShell if Needed\n",
                "\n",
                "> Note: The following command must be run with **elevated** permissions"
            ],
            "metadata": {
                "azdata_cell_guid": "1d5623e2-7557-4dfe-95f5-14a82f7cd39c"
            },
            "attachments": {}
        },
        {
            "cell_type": "code",
            "source": [
                "Set-ExecutionPolicy -ExecutionPolicy RemoteSigned -Scope LocalMachine"
            ],
            "metadata": {
                "azdata_cell_guid": "ee14f54f-e134-4252-af60-b5f704b25382",
                "language": "powershell"
            },
            "outputs": [],
            "execution_count": null
        }
    ]
}