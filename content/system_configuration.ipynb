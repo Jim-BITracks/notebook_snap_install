{
    "metadata": {
        "kernelspec": {
            "name": "powershell",
            "display_name": "PowerShell",
            "language": "powershell"
        },
        "language_info": {
            "name": "powershell",
            "codemirror_mode": "shell",
            "mimetype": "text/x-sh",
            "file_extension": ".ps1"
        }
    },
    "nbformat_minor": 2,
    "nbformat": 4,
    "cells": [
        {
            "cell_type": "markdown",
            "source": [
                "# System Configuration\r\n",
                "\r\n",
                "notebookSnap and eltSnap both rely on PowerShell. It's highly recommended that you install the latest version of **PowerShell Core**.\r\n",
                "\r\n",
                "## Version of PowerShell\r\n",
                "\r\n",
                "> You will want to run these same commands from a PowerShell \"Terminal Window\" since that may be set to use a _different_ Version of PowerShell. PowerShell 'Core' is designated as version **7.0** or greater."
            ],
            "metadata": {
                "azdata_cell_guid": "2c1e9ec0-c4fc-4c13-98c8-4b3605d40c07"
            }
        },
        {
            "cell_type": "code",
            "source": [
                "get-host | select-object version\r\n",
                "if($env:Processor_Architecture -eq \"x86\"){Write-Output \"running on 32bit\"}else{Write-Output \"running on 64bit\"}"
            ],
            "metadata": {
                "azdata_cell_guid": "4e42a3ea-eadd-4f19-b24f-d80508312b1a",
                "tags": []
            },
            "outputs": [
                {
                    "name": "stdout",
                    "text": "\nVersion       \n-------       \n5.1.18362.1171\nrunning on 64bit\n\n\n",
                    "output_type": "stream"
                }
            ],
            "execution_count": 1
        },
        {
            "cell_type": "markdown",
            "source": [
                "## 'Execution Policy' for PowerShell\r\n",
                "\r\n",
                "> This should also be run from a PowerShell \"Terminal Window\" to verify that set of Policies"
            ],
            "metadata": {
                "azdata_cell_guid": "6805fe7e-db34-4afa-a92f-2574e2d3ed93"
            }
        },
        {
            "cell_type": "code",
            "source": [
                "Get-ExecutionPolicy -List"
            ],
            "metadata": {
                "azdata_cell_guid": "a314f22d-5c8c-43ef-8aa3-cce51cae99f9"
            },
            "outputs": [
                {
                    "name": "stdout",
                    "text": "\n        Scope ExecutionPolicy\n        ----- ---------------\nMachinePolicy       Undefined\n   UserPolicy       Undefined\n      Process       Undefined\n  CurrentUser    RemoteSigned\n LocalMachine    RemoteSigned\n\n\n",
                    "output_type": "stream"
                }
            ],
            "execution_count": 2
        },
        {
            "cell_type": "markdown",
            "source": [
                "## Changing the 'Execution Policy' for PowerShell\r\n",
                "\r\n",
                "> Note: The following command must be run with **elevated** permissions"
            ],
            "metadata": {
                "azdata_cell_guid": "1d5623e2-7557-4dfe-95f5-14a82f7cd39c"
            }
        },
        {
            "cell_type": "code",
            "source": [
                "Set-ExecutionPolicy -ExecutionPolicy RemoteSigned -Scope LocalMachine"
            ],
            "metadata": {
                "azdata_cell_guid": "ee14f54f-e134-4252-af60-b5f704b25382"
            },
            "outputs": [],
            "execution_count": null
        },
        {
            "cell_type": "markdown",
            "source": [
                "## View Current Azure Data Studio 'Environment'"
            ],
            "metadata": {
                "azdata_cell_guid": "7977dc35-557b-499e-a2f0-c2709927bb5d"
            }
        },
        {
            "cell_type": "code",
            "source": [
                "$env:APPDATA"
            ],
            "metadata": {
                "azdata_cell_guid": "ae82e0c9-b4c4-409b-810e-a453a4eb2435"
            },
            "outputs": [
                {
                    "output_type": "stream",
                    "name": "stdout",
                    "text": "C:\\Users\\jmiller\\AppData\\Roaming\n"
                }
            ],
            "execution_count": 4
        }
    ]
}