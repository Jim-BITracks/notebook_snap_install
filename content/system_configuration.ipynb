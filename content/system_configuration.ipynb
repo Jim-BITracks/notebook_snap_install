{
    "cells": [
        {
            "attachments": {},
            "cell_type": "markdown",
            "metadata": {
                "azdata_cell_guid": "2c1e9ec0-c4fc-4c13-98c8-4b3605d40c07"
            },
            "source": [
                "# System Configuration\n",
                "\n",
                "**Important:** notebookSnap and eltSnap both require **PowerShell Core**. It can be downloaded at: [https://learn.microsoft.com/en-us/powershell/scripting/install/installing-powershell-on-windows?view=powershell-7.5](https://learn.microsoft.com/en-us/powershell/scripting/install/installing-powershell-on-windows?view=powershell-7.5)\n",
                "\n",
                "## Version of PowerShell\n",
                "\n",
                "Note: You will want to run the following commands from a PowerShell \"**Terminal Window**\" (not in this notebook) to be sure you are using PowerShell 'Core' (version **7.0** or greater). Note that Azure Data Studio typically uses a \"non-core\" version of PowerShell which will not work with EltSnap. The commands are included below for copying into a Powershell Terminal Window."
            ]
        },
        {
            "cell_type": "code",
            "execution_count": null,
            "metadata": {
                "azdata_cell_guid": "4e42a3ea-eadd-4f19-b24f-d80508312b1a",
                "language": "powershell",
                "tags": []
            },
            "outputs": [],
            "source": [
                "get-host | select-object version\n",
                "if($env:Processor_Architecture -eq \"x86\"){Write-Output \"running on 32bit\"}else{Write-Output \"running on 64bit\"}"
            ]
        },
        {
            "attachments": {},
            "cell_type": "markdown",
            "metadata": {
                "azdata_cell_guid": "6805fe7e-db34-4afa-a92f-2574e2d3ed93"
            },
            "source": [
                "## 'Execution Policy' for PowerShell\n",
                "\n",
                "Verify that the \"LocalMachine\" execution policy is set to \"<span style=\"color: rgb(33, 33, 33); font-family: Consolas, &quot;Courier New&quot;, monospace; font-size: 12px; white-space: pre;\">RemoteSigned</span>\""
            ]
        },
        {
            "cell_type": "code",
            "execution_count": null,
            "metadata": {
                "azdata_cell_guid": "a314f22d-5c8c-43ef-8aa3-cce51cae99f9",
                "language": "powershell"
            },
            "outputs": [],
            "source": [
                "Get-ExecutionPolicy -List"
            ]
        },
        {
            "attachments": {},
            "cell_type": "markdown",
            "metadata": {
                "azdata_cell_guid": "1d5623e2-7557-4dfe-95f5-14a82f7cd39c"
            },
            "source": [
                "## Changing the 'Execution Policy' for PowerShell if Needed\n",
                "\n",
                "> Note: The following command must be run with **elevated** permissions"
            ]
        },
        {
            "cell_type": "code",
            "execution_count": null,
            "metadata": {
                "azdata_cell_guid": "ee14f54f-e134-4252-af60-b5f704b25382",
                "language": "powershell"
            },
            "outputs": [],
            "source": [
                "Set-ExecutionPolicy -ExecutionPolicy RemoteSigned -Scope LocalMachine"
            ]
        }
    ],
    "metadata": {
        "kernelspec": {
            "display_name": "PowerShell",
            "language": "powershell",
            "name": "powershell"
        },
        "language_info": {
            "codemirror_mode": "shell",
            "file_extension": ".ps1",
            "mimetype": "text/x-sh",
            "name": "powershell"
        }
    },
    "nbformat": 4,
    "nbformat_minor": 2
}
