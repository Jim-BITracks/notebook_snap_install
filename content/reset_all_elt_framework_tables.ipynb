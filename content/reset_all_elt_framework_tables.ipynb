{
    "metadata": {
        "kernelspec": {
            "name": "SQL",
            "display_name": "SQL",
            "language": "sql"
        },
        "language_info": {
            "name": "sql",
            "version": ""
        }
    },
    "nbformat_minor": 2,
    "nbformat": 4,
    "cells": [
        {
            "cell_type": "markdown",
            "source": [
                "# Reset All elt_framework Tables\r\n",
                "\r\n",
                "Use this notebook to initialize all tables in the 'elt_framework' database which holds Project Runtime data\r\n",
                "\r\n",
                "**Step 1** - Connect to the database: **elt_framework**\r\n",
                "\r\n",
                "**Step 2** - Run the following stored procedure:\r\n",
                "\r\n",
                ""
            ],
            "metadata": {
                "azdata_cell_guid": "ae087422-4cab-4fe8-ac85-3c879c14fbaa"
            }
        },
        {
            "cell_type": "code",
            "source": [
                "EXEC [dbo].[Reset All Tables];"
            ],
            "metadata": {
                "azdata_cell_guid": "00c699d9-da51-4f95-816e-956b8564ef9b"
            },
            "outputs": [],
            "execution_count": null
        }
    ]
}