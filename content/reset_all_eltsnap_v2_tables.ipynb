{
    "metadata": {
        "kernelspec": {
            "name": "SQL",
            "display_name": "SQL",
            "language": "sql"
        },
        "language_info": {
            "name": "sql",
            "version": ""
        }
    },
    "nbformat_minor": 2,
    "nbformat": 4,
    "cells": [
        {
            "cell_type": "markdown",
            "source": [
                "# Reset All eltsnap_v2 Tables\r\n",
                "\r\n",
                "Use this notebook to initialize all tables in the 'eltsnap_v2' database (Project Configuration data)\r\n",
                "\r\n",
                "1. Connect to the database: **eltsnap_v2**\r\n",
                "2. Run the following stored procedure:\r\n",
                "\r\n",
                ""
            ],
            "metadata": {
                "azdata_cell_guid": "ae087422-4cab-4fe8-ac85-3c879c14fbaa"
            }
        },
        {
            "cell_type": "code",
            "source": [
                "EXEC [dbo].[Reset All Tables] 'Yes';"
            ],
            "metadata": {
                "azdata_cell_guid": "00c699d9-da51-4f95-816e-956b8564ef9b"
            },
            "outputs": [],
            "execution_count": null
        },
        {
            "cell_type": "markdown",
            "source": [
                "## Customize eltSnap Runtime License (optional)\r\n",
                "\r\n",
                "If you have an eltSnap Runtime License, you can place the license in the eltsnap_v2 database (instead of the standard config file). This allows you to update the eltSnap Runtime (e.g., via GitHub 'sync') without then needing to re-apply your Runtime license\r\n",
                "\r\n",
                "1. Update the following code cell with your\r\n",
                "    - server name\r\n",
                "    - eltSnap Runtime License\r\n",
                "2. Run the code cell"
            ],
            "metadata": {
                "azdata_cell_guid": "1e943d80-0797-4a5e-9446-b615e4396a57"
            }
        },
        {
            "cell_type": "code",
            "source": [
                "DECLARE @servername NVARCHAR(128) = 'SRV1' --<-- place server name here\n",
                "DECLARE @license NVARCHAR(64) = 'xxxx-xxxx-xxxx-xxx-xxxx-x' --<-- place license number here\n",
                "\n",
                "DELETE [elt].[application_config] WHERE [setting] = 'runtime license (' + @servername + ')';\r\n",
                "INSERT [elt].[application_config] VALUES ('runtime license (' + @servername + ')', @license);"
            ],
            "metadata": {
                "azdata_cell_guid": "a32ca076-32d5-47c1-9030-2b359c109b7a"
            },
            "outputs": [
                {
                    "output_type": "display_data",
                    "data": {
                        "text/html": "(0 rows affected)"
                    },
                    "metadata": {}
                },
                {
                    "output_type": "display_data",
                    "data": {
                        "text/html": "(1 row affected)"
                    },
                    "metadata": {}
                },
                {
                    "output_type": "display_data",
                    "data": {
                        "text/html": "Total execution time: 00:00:00.004"
                    },
                    "metadata": {}
                }
            ],
            "execution_count": null
        },
        {
            "cell_type": "markdown",
            "source": [
                "## Customize Runtime Log Directory (optional)\r\n",
                "\r\n",
                "This database entry allows you choose an alternate location for your Runtime Log files. This option will unclutter your eltSnap Runtime folder which may be cloned and updateable using the GitHub 'sync' option.\r\n",
                "\r\n",
                "1. Update the following code cell with your\r\n",
                "    - Log Directory\r\n",
                "2. Run the code cell"
            ],
            "metadata": {
                "azdata_cell_guid": "913174a7-3226-44ca-847c-5c6e8f18b814"
            }
        },
        {
            "cell_type": "code",
            "source": [
                "DECLARE @log_directory NVARCHAR(128) = 'C:\\ADS\\runtime_log' --<-- place Log Directory\r\n",
                "\r\n",
                "DELETE [elt].[application_config] WHERE [setting] = 'log dir';\n",
                "INSERT [elt].[application_config] VALUES ('log dir', @log_directory);"
            ],
            "metadata": {
                "azdata_cell_guid": "c5a1149e-7d82-4c16-9bc1-bd4b165469b9"
            },
            "outputs": [
{
    "output_type": "display_data",
    "data": {
        "text/html": "(1 row affected)"
    },
    "metadata": {}
}, {
    "output_type": "display_data",
    "data": {
        "text/html": "(1 row affected)"
    },
    "metadata": {}
}, {
    "output_type": "display_data",
    "data": {
        "text/html": "Total execution time: 00:00:00.005"
    },
    "metadata": {}
}
],
            "execution_count": null
        }
    ]
}