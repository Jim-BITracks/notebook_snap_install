{
    "metadata": {
        "kernelspec": {
            "name": "SQL",
            "display_name": "SQL",
            "language": "sql"
        },
        "language_info": {
            "name": "sql",
            "version": ""
        }
    },
    "nbformat_minor": 2,
    "nbformat": 4,
    "cells": [
        {
            "cell_type": "markdown",
            "source": [
                "# Reset All eltsnap_v2 Tables\r\n",
                "\r\n",
                "Use this notebook to initialize all tables in the 'eltsnap_v2' database (Project Configuration data)\r\n",
                "\r\n",
                "**Step 1** - Connect to the database: **eltsnap_v2**\r\n",
                "\r\n",
                "**Step 2** - Run the following stored procedure:\r\n",
                "\r\n",
                ""
            ],
            "metadata": {
                "azdata_cell_guid": "ae087422-4cab-4fe8-ac85-3c879c14fbaa"
            }
        },
        {
            "cell_type": "code",
            "source": [
                "EXEC [dbo].[Reset All Tables] 'Yes';"
            ],
            "metadata": {
                "azdata_cell_guid": "00c699d9-da51-4f95-816e-956b8564ef9b"
            },
            "outputs": [],
            "execution_count": null
        }
    ]
}